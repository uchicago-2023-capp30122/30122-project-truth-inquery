{
 "cells": [
  {
   "cell_type": "code",
   "execution_count": 84,
   "id": "efbfa044",
   "metadata": {},
   "outputs": [],
   "source": [
    "import glob\n",
    "import pandas as pd\n",
    "import sqlite3\n",
    "path1 = \"./database_model/API_data\"\n",
    "path2 = \"./truth_inquery/output\"\n",
    "path3 = \"./truth_inquery/data\"\n"
   ]
  },
  {
   "cell_type": "code",
   "execution_count": 85,
   "id": "6bceb2e1",
   "metadata": {},
   "outputs": [],
   "source": [
    "def concat_files(path, index):\n",
    "    \"\"\"\n",
    "    \"\"\"\n",
    "    files = glob.glob(path + \"/*.csv\")\n",
    "    dataframe = pd.DataFrame()\n",
    "    content = []\n",
    "    for filename in files:\n",
    "        df = pd.read_csv(filename, index_col = index)\n",
    "        content.append(df)\n",
    "    data_frame = pd.concat(content)\n",
    "    return data_frame"
   ]
  },
  {
   "cell_type": "code",
   "execution_count": null,
   "id": "d5435d0b",
   "metadata": {},
   "outputs": [],
   "source": [
    "clinics = concat_files(path3, 3)\n",
    "API_data = concat_files(path1, 0)"
   ]
  },
  {
   "cell_type": "code",
   "execution_count": null,
   "id": "40398f80",
   "metadata": {},
   "outputs": [],
   "source": []
  }
 ],
 "metadata": {
  "kernelspec": {
   "display_name": "base",
   "language": "python",
   "name": "python3"
  },
  "language_info": {
   "codemirror_mode": {
    "name": "ipython",
    "version": 3
   },
   "file_extension": ".py",
   "mimetype": "text/x-python",
   "name": "python",
   "nbconvert_exporter": "python",
   "pygments_lexer": "ipython3",
   "version": "3.9.13"
  },
  "vscode": {
   "interpreter": {
    "hash": "582a73a88584df40cee86e74f67887654b49fb30781872944e20746ceffdb024"
   }
  }
 },
 "nbformat": 4,
 "nbformat_minor": 5
}
